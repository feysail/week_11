{
 "cells": [
  {
   "cell_type": "markdown",
   "metadata": {},
   "source": [
    "Task 4: Optimize Portfolio Based on Forecast\n",
    "In this task, you'll use the forecasted data from Task 3 to make informed decisions about optimizing a sample investment portfolio. The objective is to adjust the portfolio to maximize returns while minimizing risks based on the predicted market trends.\n",
    "\n",
    "Use a simple portfolio with three assets:\n",
    "Tesla Stock (TSLA) - A growth stock with higher risk.\n",
    "Vanguard Total Bond Market ETF (BND) - A bond ETF for stability.\n",
    "S&P 500 ETF (SPY) - An index fund for diversification.\n",
    "You’ve already forecasted Tesla’s future prices. Now, forecasts for BND and SPY. \n",
    "Combine the data into on dataframe df with columns TSLA, BND, and SPY, which contain daily closing prices for each asset.\n",
    "Compute the annual return, compound the average daily returns for each asset.\n",
    "Use covariance matrix helps you understand how asset returns move together.\n",
    "Define the portfolio weights and compute the weighted average return and risk (volatility).\n",
    "Use optimization to find the weights that maximize the Sharpe Ratio.\n",
    "Analyze Portfolio Risk and Return\n",
    "Calculate the average of the portfolio returns.\n",
    "Measure the standard deviation of portfolio returns to understand volatility.\n",
    "Measure the potential loss in value of Tesla stock at a given confidence interval (Value at Risk - VaR).\n",
    "Sharpe Ratio: This tells you the risk-adjusted return. Higher is better.\n",
    "Optimize the Portfolio:\n",
    "Adjust allocations to maximize returns or minimize risks.\n",
    "Increasing stable assets like BND if you expect higher volatility in Tesla.\n",
    "Visualize how the portfolio would perform based on the forecasted returns.\n",
    "Summarize the expected return, volatility, Sharpe Ratio, adjustments to asset allocation and reasons, and include cumulative return charts and risk-return analysis.\n"
   ]
  },
  {
   "cell_type": "code",
   "execution_count": 5,
   "metadata": {},
   "outputs": [],
   "source": [
    "import yfinance as yf\n",
    "import pandas as pd\n",
    "from pmdarima import auto_arima"
   ]
  },
  {
   "cell_type": "code",
   "execution_count": null,
   "metadata": {},
   "outputs": [],
   "source": [
    "\n",
    "\n",
    "# Fetch historical data for TSLA, BND, and SPY\n",
    "tsla_data = yf.download('TSLA', start='2015-01-01', end='2023-01-01')['Close']\n",
    "bnd_data = yf.download('BND', start='2015-01-01', end='2023-01-01')['Close']\n",
    "spy_data = yf.download('SPY', start='2015-01-01', end='2023-01-01')['Close']\n",
    "\n",
    "# Forecasting future prices\n",
    "def forecast_prices(data, n_periods):\n",
    "    model = auto_arima(data, seasonal=False, stepwise=True, trace=False)\n",
    "    forecast = model.predict(n_periods=n_periods)  # Only need the forecast\n",
    "    return forecast\n",
    "\n",
    "n_periods = 252\n",
    "tsla_forecast = forecast_prices(tsla_data, n_periods)\n",
    "bnd_forecast = forecast_prices(bnd_data, n_periods)\n",
    "spy_forecast = forecast_prices(spy_data, n_periods)\n",
    "\n",
    "# Create a date range for the forecasted values\n",
    "forecast_index = pd.date_range(start=tsla_data.index[-1] + pd.Timedelta(days=1), \n",
    "                                periods=n_periods, freq='B')\n",
    "\n",
    "# Create a DataFrame with historical and forecasted prices\n",
    "df = pd.DataFrame({\n",
    "    'TSLA': pd.concat([tsla_data, pd.Series(tsla_forecast, index=forecast_index)]),\n",
    "    'BND': pd.concat([bnd_data, pd.Series(bnd_forecast, index=forecast_index)]),\n",
    "    'SPY': pd.concat([spy_data, pd.Series(spy_forecast, index=forecast_index)])\n",
    "})\n",
    "\n",
    "# Reset index to make the DataFrame easier to work with\n",
    "df.reset_index(inplace=True)\n",
    "df.rename(columns={'index': 'Date'}, inplace=True)\n",
    "\n",
    "print(df.tail())  "
   ]
  }
 ],
 "metadata": {
  "kernelspec": {
   "display_name": "Python 3",
   "language": "python",
   "name": "python3"
  },
  "language_info": {
   "codemirror_mode": {
    "name": "ipython",
    "version": 3
   },
   "file_extension": ".py",
   "mimetype": "text/x-python",
   "name": "python",
   "nbconvert_exporter": "python",
   "pygments_lexer": "ipython3",
   "version": "3.12.4"
  }
 },
 "nbformat": 4,
 "nbformat_minor": 2
}
